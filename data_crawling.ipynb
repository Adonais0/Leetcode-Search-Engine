{
 "cells": [
  {
   "cell_type": "code",
   "execution_count": 61,
   "metadata": {},
   "outputs": [],
   "source": [
    "import json\n",
    "from bs4 import BeautifulSoup"
   ]
  },
  {
   "cell_type": "code",
   "execution_count": 62,
   "metadata": {},
   "outputs": [],
   "source": [
    "def save_as_json(dict_name,file_name):\n",
    "    dict_cache = json.dumps(dict_name,indent=4)\n",
    "    f = open(file_name,\"w\")\n",
    "    f.write(dict_cache)\n",
    "    f.close()"
   ]
  },
  {
   "cell_type": "code",
   "execution_count": 48,
   "metadata": {},
   "outputs": [],
   "source": [
    "f=open(\"leetcode.html\")\n",
    "lines=f.readlines()\n",
    "page_content=\"\"\n",
    "for l in lines:\n",
    "    page_content+=l\n",
    "f.close()"
   ]
  },
  {
   "cell_type": "code",
   "execution_count": 49,
   "metadata": {},
   "outputs": [],
   "source": [
    "page_soup = BeautifulSoup(page_content, 'html.parser')\n",
    "all_problems = page_soup.find(class_=\"reactable-data\")\n",
    "problem_blocks=all_problems.find_all('tr')"
   ]
  },
  {
   "cell_type": "code",
   "execution_count": 50,
   "metadata": {},
   "outputs": [
    {
     "data": {
      "text/plain": [
       "937"
      ]
     },
     "execution_count": 50,
     "metadata": {},
     "output_type": "execute_result"
    }
   ],
   "source": [
    "len(problem_blocks)"
   ]
  },
  {
   "cell_type": "code",
   "execution_count": 52,
   "metadata": {},
   "outputs": [
    {
     "data": {
      "text/plain": [
       "[<td label=\"[object Object]\" value=\"ac\"><span class=\"text-success fa fa-check\"></span></td>,\n",
       " <td label=\"[object Object]\">2</td>,\n",
       " <td label=\"[object Object]\" value=\"Add Two Numbers\"><div><a href=\"https://leetcode.com/problems/add-two-numbers\">Add Two Numbers</a>    </div></td>,\n",
       " <td label=\"[object Object]\"><a href=\"https://leetcode.com/articles/add-two-numbers\"><i class=\"fa fa-file-text\"></i></a></td>,\n",
       " <td label=\"[object Object]\" value=\"29.54278375080329\">29.5%</td>,\n",
       " <td label=\"[object Object]\" value=\"[object Object]\"><span class=\"label label-warning round\">Medium</span></td>,\n",
       " <td label=\"[object Object]\"></td>]"
      ]
     },
     "execution_count": 52,
     "metadata": {},
     "output_type": "execute_result"
    }
   ],
   "source": [
    "problem_block_content=problem_blocks[1].find_all('td')\n",
    "problem_block_content"
   ]
  },
  {
   "cell_type": "code",
   "execution_count": 53,
   "metadata": {},
   "outputs": [
    {
     "data": {
      "text/plain": [
       "'2'"
      ]
     },
     "execution_count": 53,
     "metadata": {},
     "output_type": "execute_result"
    }
   ],
   "source": [
    "problem_block_content[1].text"
   ]
  },
  {
   "cell_type": "code",
   "execution_count": 54,
   "metadata": {},
   "outputs": [
    {
     "data": {
      "text/plain": [
       "'Add Two Numbers'"
      ]
     },
     "execution_count": 54,
     "metadata": {},
     "output_type": "execute_result"
    }
   ],
   "source": [
    "problem_block_content[2]['value']"
   ]
  },
  {
   "cell_type": "code",
   "execution_count": 55,
   "metadata": {},
   "outputs": [
    {
     "data": {
      "text/plain": [
       "'https://leetcode.com/articles/add-two-numbers'"
      ]
     },
     "execution_count": 55,
     "metadata": {},
     "output_type": "execute_result"
    }
   ],
   "source": [
    "problem_block_content[3].find('a')['href']"
   ]
  },
  {
   "cell_type": "code",
   "execution_count": 56,
   "metadata": {},
   "outputs": [
    {
     "data": {
      "text/plain": [
       "'29.54278375080329'"
      ]
     },
     "execution_count": 56,
     "metadata": {},
     "output_type": "execute_result"
    }
   ],
   "source": [
    "problem_block_content[4]['value']"
   ]
  },
  {
   "cell_type": "code",
   "execution_count": 57,
   "metadata": {},
   "outputs": [
    {
     "data": {
      "text/plain": [
       "'Medium'"
      ]
     },
     "execution_count": 57,
     "metadata": {},
     "output_type": "execute_result"
    }
   ],
   "source": [
    "problem_block_content[5].text"
   ]
  },
  {
   "cell_type": "code",
   "execution_count": 58,
   "metadata": {},
   "outputs": [],
   "source": [
    "leetcode_questions={}"
   ]
  },
  {
   "cell_type": "code",
   "execution_count": 59,
   "metadata": {},
   "outputs": [],
   "source": [
    "for i in range(len(problem_blocks)):\n",
    "    question_content={}\n",
    "    problem_block_content=problem_blocks[i].find_all('td')\n",
    "    question_content['problem_id']=int(problem_block_content[1].text)\n",
    "    question_content['problem_title']=problem_block_content[2]['value']\n",
    "    question_content['problem_url']=problem_block_content[2].find('a')['href']\n",
    "    question_content['problem_acceptable']=problem_block_content[4]['value']\n",
    "    question_content['problem_difficult']=problem_block_content[5].text\n",
    "    leetcode_questions[str(int(problem_block_content[1].text))]=question_content"
   ]
  },
  {
   "cell_type": "code",
   "execution_count": 60,
   "metadata": {},
   "outputs": [
    {
     "data": {
      "text/plain": [
       "{'problem_id': 944,\n",
       " 'problem_title': 'Delete Columns to Make Sorted',\n",
       " 'problem_url': 'https://leetcode.com/problems/delete-columns-to-make-sorted',\n",
       " 'problem_acceptable': '73.31388990156763',\n",
       " 'problem_difficult': 'Easy'}"
      ]
     },
     "execution_count": 60,
     "metadata": {},
     "output_type": "execute_result"
    }
   ],
   "source": [
    "question_content"
   ]
  },
  {
   "cell_type": "code",
   "execution_count": 65,
   "metadata": {},
   "outputs": [],
   "source": [
    "save_as_json(leetcode_questions,'leetcode_questions.json')"
   ]
  },
  {
   "cell_type": "code",
   "execution_count": null,
   "metadata": {},
   "outputs": [],
   "source": []
  }
 ],
 "metadata": {
  "kernelspec": {
   "display_name": "Python 3",
   "language": "python",
   "name": "python3"
  },
  "language_info": {
   "codemirror_mode": {
    "name": "ipython",
    "version": 3
   },
   "file_extension": ".py",
   "mimetype": "text/x-python",
   "name": "python",
   "nbconvert_exporter": "python",
   "pygments_lexer": "ipython3",
   "version": "3.6.6"
  }
 },
 "nbformat": 4,
 "nbformat_minor": 2
}
