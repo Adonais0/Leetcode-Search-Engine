{
 "cells": [
  {
   "cell_type": "code",
   "execution_count": 6,
   "metadata": {},
   "outputs": [],
   "source": [
    "import networkx as nx"
   ]
  },
  {
   "cell_type": "code",
   "execution_count": 2,
   "metadata": {},
   "outputs": [],
   "source": [
    "import json"
   ]
  },
  {
   "cell_type": "code",
   "execution_count": 3,
   "metadata": {},
   "outputs": [],
   "source": [
    "try:\n",
    "    cache_file = open('problem_descriptions.json', 'r')\n",
    "    cache_contents = cache_file.read()\n",
    "    problem_descriptions = json.loads(cache_contents)\n",
    "    cache_file.close()\n",
    "except:\n",
    "    print(\"something bad happens!\")"
   ]
  },
  {
   "cell_type": "code",
   "execution_count": 38,
   "metadata": {},
   "outputs": [],
   "source": [
    "try:\n",
    "    cache_file = open('leetcode_questions.json', 'r')\n",
    "    cache_contents = cache_file.read()\n",
    "    leetcode_questions = json.loads(cache_contents)\n",
    "    cache_file.close()\n",
    "except:\n",
    "    print(\"something bad happens!\")"
   ]
  },
  {
   "cell_type": "code",
   "execution_count": 5,
   "metadata": {},
   "outputs": [
    {
     "data": {
      "text/plain": [
       "{'problem_name': 'Two Sum',\n",
       " 'problem_description': 'Given an array of integers, return indices of the two numbers such that they add up to a specific target.\\nYou may assume that each input would have exactly one solution, and you may not use the same element twice.\\nExample:\\nGiven nums = [2, 7, 11, 15], target = 9,\\n\\nBecause nums[0] + nums[1] = 2 + 7 = 9,\\nreturn [0, 1].\\n\\n\\xa0\\n',\n",
       " 'problem_tags': ['Array', 'Hash Table']}"
      ]
     },
     "execution_count": 5,
     "metadata": {},
     "output_type": "execute_result"
    }
   ],
   "source": [
    "problem_descriptions['1']"
   ]
  },
  {
   "cell_type": "code",
   "execution_count": 39,
   "metadata": {},
   "outputs": [
    {
     "data": {
      "text/plain": [
       "{'problem_id': 1,\n",
       " 'problem_title': 'Two Sum',\n",
       " 'problem_url': 'https://leetcode.com/problems/two-sum',\n",
       " 'problem_acceptable': '39.24695009015695',\n",
       " 'problem_difficult': 'Easy'}"
      ]
     },
     "execution_count": 39,
     "metadata": {},
     "output_type": "execute_result"
    }
   ],
   "source": [
    "leetcode_questions['1']"
   ]
  },
  {
   "cell_type": "code",
   "execution_count": 43,
   "metadata": {},
   "outputs": [],
   "source": [
    "tags=set()\n",
    "questions=set()\n",
    "difficulties=set()"
   ]
  },
  {
   "cell_type": "code",
   "execution_count": 44,
   "metadata": {},
   "outputs": [],
   "source": [
    "g = nx.Graph()"
   ]
  },
  {
   "cell_type": "code",
   "execution_count": 45,
   "metadata": {},
   "outputs": [],
   "source": [
    "for each in problem_descriptions:\n",
    "    for t in problem_descriptions[each]['problem_tags']:\n",
    "        g.add_edge(t,problem_descriptions[each]['problem_name'])\n",
    "        tags.add(t)\n",
    "        questions.add(problem_descriptions[each]['problem_name'])\n",
    "    difficulties.add(leetcode_questions[each]['problem_difficult'])\n",
    "    g.add_edge(leetcode_questions[each]['problem_difficult'],problem_descriptions[each]['problem_name'])"
   ]
  },
  {
   "cell_type": "code",
   "execution_count": 57,
   "metadata": {},
   "outputs": [
    {
     "name": "stdout",
     "output_type": "stream",
     "text": [
      "0.0\n",
      "0.13966480446927373\n",
      "0.27932960893854747\n",
      "0.41899441340782123\n",
      "0.5586592178770949\n",
      "0.6983240223463687\n",
      "0.8379888268156425\n",
      "0.9776536312849162\n"
     ]
    }
   ],
   "source": [
    "related_questions={}\n",
    "n=0\n",
    "for each in nodes:\n",
    "    related_questions[each]=[]\n",
    "    neighb_=list(nx.bfs_edges(g, source=each, depth_limit=2))\n",
    "    for nbs in neighb_:\n",
    "        for nb in nbs:\n",
    "            if (nb not in tags) and (nb not in difficultys) and (nb!=each):\n",
    "                scores = nx.adamic_adar_index(g, [(nb, each)])\n",
    "                for u, v, p in scores:\n",
    "                    related_questions[each].append((nb,float(p)))\n",
    "    if n%100==0:\n",
    "        print(n/len(nodes))\n",
    "    n+=1"
   ]
  },
  {
   "cell_type": "code",
   "execution_count": 52,
   "metadata": {},
   "outputs": [
    {
     "data": {
      "text/plain": [
       "716"
      ]
     },
     "execution_count": 52,
     "metadata": {},
     "output_type": "execute_result"
    }
   ],
   "source": [
    "len(nodes)"
   ]
  },
  {
   "cell_type": "code",
   "execution_count": 71,
   "metadata": {},
   "outputs": [],
   "source": [
    "question_to_id={}\n",
    "for each in leetcode_questions:\n",
    "    question_to_id[leetcode_questions[each]['problem_title']]=leetcode_questions[each]['problem_id']"
   ]
  },
  {
   "cell_type": "code",
   "execution_count": 67,
   "metadata": {},
   "outputs": [],
   "source": [
    "related_questions_top3={}\n",
    "for n in nodes:\n",
    "    top3=sorted(related_questions[n],key=lambda x:x[1],reverse = True)[:10]\n",
    "    related_questions_top3[n]=top3"
   ]
  },
  {
   "cell_type": "code",
   "execution_count": 68,
   "metadata": {},
   "outputs": [
    {
     "data": {
      "text/plain": [
       "[('Container With Most Water', 0.6444190576829993),\n",
       " ('3Sum Closest', 0.6444190576829993),\n",
       " ('4Sum', 0.6444190576829993),\n",
       " ('Sort Colors', 0.6444190576829993),\n",
       " ('Remove Duplicates from Sorted Array II', 0.6444190576829993),\n",
       " ('Minimum Size Subarray Sum', 0.6444190576829993),\n",
       " ('Find the Duplicate Number', 0.6444190576829993),\n",
       " ('Subarray Product Less Than K', 0.6444190576829993),\n",
       " ('Remove Duplicates from Sorted Array', 0.47500314727208537),\n",
       " ('Remove Element', 0.47500314727208537)]"
      ]
     },
     "execution_count": 68,
     "metadata": {},
     "output_type": "execute_result"
    }
   ],
   "source": [
    "related_questions_top3['3Sum']"
   ]
  },
  {
   "cell_type": "code",
   "execution_count": 69,
   "metadata": {},
   "outputs": [],
   "source": [
    "import pickle\n",
    "def savePickle(dictfile,filename):\n",
    "\tprint(\"saving....\")\n",
    "\tf=open(filename+\".pickle\",'wb')\n",
    "\tpickle.dump(dictfile,f)\n",
    "\tf.close()\n",
    "\n",
    "def loadPickle(filename):\n",
    "\tprint(\"loading....\")\n",
    "\tf=open(filename+\".pickle\",'rb')\n",
    "\tdictfile=pickle.load(f)\n",
    "\tf.close()\n",
    "\treturn dictfile"
   ]
  },
  {
   "cell_type": "code",
   "execution_count": 70,
   "metadata": {},
   "outputs": [
    {
     "name": "stdout",
     "output_type": "stream",
     "text": [
      "saving....\n"
     ]
    }
   ],
   "source": [
    "savePickle(related_questions_top3,'related_questions_top3')"
   ]
  },
  {
   "cell_type": "code",
   "execution_count": 73,
   "metadata": {},
   "outputs": [
    {
     "name": "stdout",
     "output_type": "stream",
     "text": [
      "saving....\n"
     ]
    }
   ],
   "source": [
    "savePickle(question_to_id,'question_to_id')"
   ]
  },
  {
   "cell_type": "code",
   "execution_count": null,
   "metadata": {},
   "outputs": [],
   "source": []
  }
 ],
 "metadata": {
  "kernelspec": {
   "display_name": "Python 3",
   "language": "python",
   "name": "python3"
  },
  "language_info": {
   "codemirror_mode": {
    "name": "ipython",
    "version": 3
   },
   "file_extension": ".py",
   "mimetype": "text/x-python",
   "name": "python",
   "nbconvert_exporter": "python",
   "pygments_lexer": "ipython3",
   "version": "3.6.6"
  }
 },
 "nbformat": 4,
 "nbformat_minor": 2
}
