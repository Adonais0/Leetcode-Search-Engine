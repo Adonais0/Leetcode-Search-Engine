{
 "cells": [
  {
   "cell_type": "markdown",
   "metadata": {},
   "source": [
    "# BM25-CTF Algorithm"
   ]
  },
  {
   "cell_type": "code",
   "execution_count": 33,
   "metadata": {},
   "outputs": [],
   "source": [
    "import pickle\n",
    "def savePickle(dictfile,filename):\n",
    "\tprint(\"saving....\")\n",
    "\tf=open(filename+\".pickle\",'wb')\n",
    "\tpickle.dump(dictfile,f)\n",
    "\tf.close()\n",
    "\n",
    "def loadPickle(filename):\n",
    "\tprint(\"loading....\")\n",
    "\tf=open(filename+\".pickle\",'rb')\n",
    "\tdictfile=pickle.load(f)\n",
    "\tf.close()\n",
    "\treturn dictfile"
   ]
  },
  {
   "cell_type": "code",
   "execution_count": 34,
   "metadata": {},
   "outputs": [
    {
     "name": "stdout",
     "output_type": "stream",
     "text": [
      "loading....\n"
     ]
    }
   ],
   "source": [
    "meta=loadPickle('meta')"
   ]
  },
  {
   "cell_type": "code",
   "execution_count": 85,
   "metadata": {},
   "outputs": [],
   "source": [
    "import math\n",
    "\n",
    "class bm25_ctf():                                            \n",
    "                                                                       \n",
    "    def __init__(self, k1 = 1.25, b = 0.9, k3 = 1000):                                             \n",
    "        self.k1 = k1\n",
    "        self.b = b\n",
    "        self.k3 = k3                                      \n",
    "                                                                                 \n",
    "    def score_one(self, w,query_meta,meta,document_id):\n",
    "        k1 = self.k1\n",
    "        b = self.b\n",
    "        k3 = self.k3\n",
    "        #Fill your answer here\n",
    "        ictf=math.log(meta['total_terms']/meta['corpus_term_count'][w])\n",
    "        pidf=math.log(-(1-2**(-meta['corpus_term_count'][w]/meta['num_docs']))/(math.log(1-meta['doc_count'][w]/meta['num_docs']))+1)\n",
    "        idf=math.log((meta['num_docs']-meta['doc_count'][w]+0.5)/(meta['doc_count'][w]+0.5))\n",
    "        bidf=ictf*pidf*idf\n",
    "        tf=((k1+1)*meta['btf'][w][document_id])/(k1*(1-b+b*meta['doc_size'][document_id]/meta['avg_dl'])+meta['btf'][w][document_id])\n",
    "        qtf=((k3+1)*query_meta['query_term_weight'][w])/(k3+query_meta['query_term_weight'][w])\n",
    "        \n",
    "        res=bidf*tf*qtf\n",
    "        \n",
    "        return res\n",
    "    \n",
    "    def score(self,query_meta,document_id,meta):\n",
    "        words=set(query_meta['query_words']) & meta['doc_unique_terms'][document_id]\n",
    "        score=0\n",
    "        for w in words:\n",
    "            score+=self.score_one(w,query_meta,meta,document_id)\n",
    "        return score"
   ]
  },
  {
   "cell_type": "code",
   "execution_count": 212,
   "metadata": {},
   "outputs": [],
   "source": [
    "def get_query_meta(query):\n",
    "    if query in query_logs:\n",
    "        return query_logs[query]\n",
    "    else:\n",
    "        query_words=query.split()\n",
    "        query_length=len(query_words)\n",
    "        query_term_weight={}\n",
    "        for qw in query_words:\n",
    "            if qw not in query_term_weight:\n",
    "                query_term_weight[qw]=1\n",
    "            else:\n",
    "                query_term_weight[qw]+=1\n",
    "\n",
    "        query_meta={}\n",
    "        query_meta['query_length']=query_length\n",
    "        query_meta['query_term_weight']=query_term_weight\n",
    "        query_meta['query_words']=query_words\n",
    "        query_meta['query']=query\n",
    "        query_meta['related_query']=[]\n",
    "        query_logs[query]=query_meta\n",
    "        return query_meta"
   ]
  },
  {
   "cell_type": "code",
   "execution_count": 288,
   "metadata": {},
   "outputs": [],
   "source": [
    "import pandas as pd\n",
    "def do_search(query,meta):\n",
    "    d_scores={}\n",
    "    query_meta=get_query_meta(query)\n",
    "    print(\"query:\",query_meta['query'])\n",
    "    print(\"result:\")\n",
    "    for i in range(meta['num_docs']):      \n",
    "        d_scores[i]=[ranker.score(query_meta,i,meta)]\n",
    "    my_frame=pd.DataFrame.from_dict(d_scores)\n",
    "    print(my_frame)\n",
    "#     print(\"related query:\")\n",
    "#     RQ_len=5\n",
    "#     if len(query_meta['related_query'])<5:\n",
    "#         RQ_len=len(query_meta['related_query'])       \n",
    "#     for i in range(RQ_len):\n",
    "#         print(query_meta['related_query'][i], end=\" \")\n",
    "    return d_scores"
   ]
  },
  {
   "cell_type": "code",
   "execution_count": 289,
   "metadata": {},
   "outputs": [],
   "source": [
    "query_logs={}"
   ]
  },
  {
   "cell_type": "code",
   "execution_count": 290,
   "metadata": {},
   "outputs": [],
   "source": [
    "ranker=bm25_ctf()"
   ]
  },
  {
   "cell_type": "code",
   "execution_count": 291,
   "metadata": {},
   "outputs": [],
   "source": [
    "query=\"hello baby\""
   ]
  },
  {
   "cell_type": "code",
   "execution_count": 292,
   "metadata": {},
   "outputs": [
    {
     "name": "stdout",
     "output_type": "stream",
     "text": [
      "query: hello baby\n",
      "result:\n",
      "          0  1        2         3  4\n",
      "0  0.370611  0  0.19381  2.297318  0\n"
     ]
    }
   ],
   "source": [
    "d_scores=do_search(query,meta)"
   ]
  },
  {
   "cell_type": "markdown",
   "metadata": {},
   "source": [
    "# add some feedback"
   ]
  },
  {
   "cell_type": "code",
   "execution_count": 249,
   "metadata": {},
   "outputs": [],
   "source": [
    "def get_update_word_list(d_scores,threshold=3):\n",
    "    word_list=[]\n",
    "    for i in d_scores:\n",
    "        if d_scores[i]>0.1:\n",
    "            pass\n",
    "        else:\n",
    "            for w in meta['doc_unique_terms'][i]:\n",
    "                important_score=meta['btf'][w][i]*(1/meta['doc_count'][w])\n",
    "                if important_score>threshold:\n",
    "                    word_list.append(w)\n",
    "                    print(w,important_score)\n",
    "    return word_list"
   ]
  },
  {
   "cell_type": "code",
   "execution_count": 213,
   "metadata": {},
   "outputs": [],
   "source": [
    "# used for feedback\n",
    "def query_meta_update(query_meta,word_lists,update_rate=1):\n",
    "    query_meta['related_query'].append(query_meta['query'])\n",
    "    query_meta['query']+=\" * \"\n",
    "    for w in word_lists:\n",
    "        query_meta['query_words'].append(w)\n",
    "        if w not in query_meta['query_term_weight']:\n",
    "            query_meta['query_term_weight'][w]=update_rate\n",
    "        else:\n",
    "            query_meta['query_term_weight'][w]+=update_rate\n",
    "        query_meta['query_length']+=update_rate*len(word_lists)\n",
    "        if w not in query_meta['query']:\n",
    "            query_meta['query']+=str(w)+\" \"\n",
    "    query_meta['query']+=\"* \"\n",
    "    return query_meta"
   ]
  },
  {
   "cell_type": "code",
   "execution_count": 259,
   "metadata": {},
   "outputs": [
    {
     "name": "stdout",
     "output_type": "stream",
     "text": [
      "good 4.0\n",
      "2018 4.0\n",
      "haha 4.0\n",
      "luck 4.0\n"
     ]
    }
   ],
   "source": [
    "word_list=get_update_word_list(d_scores)"
   ]
  },
  {
   "cell_type": "code",
   "execution_count": 260,
   "metadata": {},
   "outputs": [],
   "source": [
    "query_logs[query]=query_meta_update(get_query_meta(query),word_list)"
   ]
  },
  {
   "cell_type": "code",
   "execution_count": 261,
   "metadata": {},
   "outputs": [
    {
     "name": "stdout",
     "output_type": "stream",
     "text": [
      "query: hello baby * good 2018 haha luck * \n",
      "result:\n",
      "0 0.37061128130176607\n",
      "1 0\n",
      "2 0.1938100058015275\n",
      "3 2.2973177085906604\n",
      "4 9.189270834362642\n",
      "related query:\n",
      "hello baby "
     ]
    }
   ],
   "source": [
    "d_scores=do_search(query,meta)"
   ]
  },
  {
   "cell_type": "code",
   "execution_count": null,
   "metadata": {},
   "outputs": [],
   "source": []
  },
  {
   "cell_type": "code",
   "execution_count": null,
   "metadata": {},
   "outputs": [],
   "source": []
  }
 ],
 "metadata": {
  "kernelspec": {
   "display_name": "Python 3",
   "language": "python",
   "name": "python3"
  },
  "language_info": {
   "codemirror_mode": {
    "name": "ipython",
    "version": 3
   },
   "file_extension": ".py",
   "mimetype": "text/x-python",
   "name": "python",
   "nbconvert_exporter": "python",
   "pygments_lexer": "ipython3",
   "version": "3.6.6"
  }
 },
 "nbformat": 4,
 "nbformat_minor": 2
}
