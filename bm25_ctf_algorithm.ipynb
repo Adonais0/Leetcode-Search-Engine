{
 "cells": [
  {
   "cell_type": "code",
   "execution_count": 5,
   "metadata": {},
   "outputs": [],
   "source": [
    "import json"
   ]
  },
  {
   "cell_type": "code",
   "execution_count": 6,
   "metadata": {},
   "outputs": [],
   "source": [
    "# get discussion_list\n",
    "try:\n",
    "    cache_file = open('discussion_list3.json', 'r')\n",
    "    cache_contents = cache_file.read()\n",
    "    discussion_lists = json.loads(cache_contents)\n",
    "    cache_file.close()\n",
    "except:\n",
    "    print(\"something bad happens!\")\n",
    "    \n",
    "try:\n",
    "    cache_file = open('leetcode_questions.json', 'r')\n",
    "    cache_contents = cache_file.read()\n",
    "    leetcode_questions = json.loads(cache_contents)\n",
    "    cache_file.close()\n",
    "except:\n",
    "    print(\"something bad happens!\")\n",
    "    \n",
    "try:\n",
    "    cache_file = open('problem_descriptions.json', 'r')\n",
    "    cache_contents = cache_file.read()\n",
    "    problem_descriptions = json.loads(cache_contents)\n",
    "    cache_file.close()\n",
    "except:\n",
    "    print(\"something bad happens!\")"
   ]
  },
  {
   "cell_type": "markdown",
   "metadata": {},
   "source": [
    "# BM25-CTF Algorithm"
   ]
  },
  {
   "cell_type": "code",
   "execution_count": 7,
   "metadata": {},
   "outputs": [],
   "source": [
    "import pickle\n",
    "def savePickle(dictfile,filename):\n",
    "\tprint(\"saving....\")\n",
    "\tf=open(filename+\".pickle\",'wb')\n",
    "\tpickle.dump(dictfile,f)\n",
    "\tf.close()\n",
    "\n",
    "def loadPickle(filename):\n",
    "\tprint(\"loading....\")\n",
    "\tf=open(filename+\".pickle\",'rb')\n",
    "\tdictfile=pickle.load(f)\n",
    "\tf.close()\n",
    "\treturn dictfile"
   ]
  },
  {
   "cell_type": "code",
   "execution_count": 8,
   "metadata": {},
   "outputs": [
    {
     "name": "stdout",
     "output_type": "stream",
     "text": [
      "loading....\n"
     ]
    }
   ],
   "source": [
    "meta=loadPickle('meta_stop')"
   ]
  },
  {
   "cell_type": "code",
   "execution_count": 9,
   "metadata": {},
   "outputs": [
    {
     "name": "stdout",
     "output_type": "stream",
     "text": [
      "loading....\n"
     ]
    }
   ],
   "source": [
    "weighted_scores=loadPickle('weighted_scores')"
   ]
  },
  {
   "cell_type": "code",
   "execution_count": 38,
   "metadata": {},
   "outputs": [
    {
     "ename": "KeyError",
     "evalue": "'3 sums'",
     "output_type": "error",
     "traceback": [
      "\u001b[0;31m---------------------------------------------------------------------------\u001b[0m",
      "\u001b[0;31mKeyError\u001b[0m                                  Traceback (most recent call last)",
      "\u001b[0;32m<ipython-input-38-bdd8648ad87d>\u001b[0m in \u001b[0;36m<module>\u001b[0;34m()\u001b[0m\n\u001b[0;32m----> 1\u001b[0;31m \u001b[0mweighted_scores\u001b[0m\u001b[0;34m[\u001b[0m\u001b[0;34m'title_score'\u001b[0m\u001b[0;34m]\u001b[0m\u001b[0;34m[\u001b[0m\u001b[0;34m'3 sums'\u001b[0m\u001b[0;34m]\u001b[0m\u001b[0;34m\u001b[0m\u001b[0m\n\u001b[0m",
      "\u001b[0;31mKeyError\u001b[0m: '3 sums'"
     ]
    }
   ],
   "source": [
    "weighted_scores['title_score']['3 sums']"
   ]
  },
  {
   "cell_type": "code",
   "execution_count": 10,
   "metadata": {},
   "outputs": [],
   "source": [
    "f=open('documents_id.txt')\n",
    "lines=f.readlines()\n",
    "f.close()\n",
    "document_map={}\n",
    "for each in lines:\n",
    "    my_data=each.split(\"\\t\")\n",
    "    document_map[my_data[0]]=my_data[1][:-1]"
   ]
  },
  {
   "cell_type": "code",
   "execution_count": 11,
   "metadata": {},
   "outputs": [],
   "source": [
    "import math\n",
    "\n",
    "class bm25_ctf():                                            \n",
    "                                                                       \n",
    "    def __init__(self, k1 = 1.25, b = 0.9, k3 = 500):                                             \n",
    "        self.k1 = k1\n",
    "        self.b = b\n",
    "        self.k3 = k3                                      \n",
    "                                                                                 \n",
    "    def score_one(self, w,query_meta,meta,document_id):\n",
    "        k1 = self.k1\n",
    "        b = self.b\n",
    "        k3 = self.k3\n",
    "        #Fill your answer here\n",
    "        ictf=math.log(meta['total_terms']/meta['corpus_term_count'][w])\n",
    "        pidf=math.log(-(1-2**(-meta['corpus_term_count'][w]/meta['num_docs']))/(math.log(1-meta['doc_count'][w]/meta['num_docs']))+1)\n",
    "        idf=math.log((meta['num_docs']-meta['doc_count'][w]+0.5)/(meta['doc_count'][w]+0.5))\n",
    "        bidf=ictf*pidf*idf\n",
    "        tf=((k1+1)*meta['btf'][w][document_id])/(k1*(1-b+b*meta['doc_size'][document_id]/meta['avg_dl'])+meta['btf'][w][document_id])\n",
    "        qtf=((k3+1)*query_meta['query_term_weight'][w])/(k3+query_meta['query_term_weight'][w])\n",
    "        \n",
    "        res=bidf*tf*qtf\n",
    "        \n",
    "        return res\n",
    "    \n",
    "    def score(self,query_meta,document_id,meta):\n",
    "        words=set(query_meta['query_words']) & meta['doc_unique_terms'][document_id]\n",
    "        score=0\n",
    "        for w in words:\n",
    "            score+=self.score_one(w,query_meta,meta,document_id)\n",
    "        return score"
   ]
  },
  {
   "cell_type": "code",
   "execution_count": 69,
   "metadata": {},
   "outputs": [],
   "source": [
    "def get_weighted_score(query_meta,i,weighted_scores):\n",
    "    score=0\n",
    "    prog_lan_score=weighted_scores['prog_lan_score']\n",
    "    tag_score=weighted_scores['tag_score']\n",
    "    difficulty_score=weighted_scores['difficulty_score']\n",
    "    title_score=weighted_scores['title_score']\n",
    "    keywords_in_discussion=weighted_scores['keywords_in_discussion']\n",
    "    for t in tag_score:\n",
    "        if t in query_meta['query']:\n",
    "            if str(i) in tag_score[t]:\n",
    "                score+=tag_score[t][str(i)]*0.1\n",
    "        if t in query_meta['query']:\n",
    "            if str(i) in keywords_in_discussion[t]:\n",
    "                score+=keywords_in_discussion[t][str(i)]\n",
    "    for t in title_score:\n",
    "        if t in query_meta['query']:\n",
    "            if str(i) in title_score[t]:\n",
    "                score+=title_score[t][str(i)]\n",
    "\n",
    "    for w in query_meta['query'].split():\n",
    "        if w in weighted_scores['prog_lan_score']:\n",
    "            if i in weighted_scores['prog_lan_score'][w]:\n",
    "                score+=weighted_scores['prog_lan_score'][w][i]\n",
    "        if w in weighted_scores['difficulty_score']:\n",
    "            if str(i) in weighted_scores['difficulty_score'][w]:\n",
    "                score+=weighted_scores['difficulty_score'][w][str(i)]*0.3\n",
    "        elif w=='difficult':\n",
    "            if str(i) in weighted_scores['difficulty_score']['hard']:\n",
    "                score+=weighted_scores['difficulty_score']['hard'][str(i)]*0.3\n",
    "    \n",
    "    vote_score=weighted_scores['vote_score']\n",
    "    view_score=weighted_scores['view_score']\n",
    "    if str(i) in vote_score:\n",
    "        score+=vote_score[str(i)]*0.01+view_score[str(i)]*0.0001\n",
    "                \n",
    "    return score"
   ]
  },
  {
   "cell_type": "code",
   "execution_count": 70,
   "metadata": {},
   "outputs": [],
   "source": [
    "def get_query_meta(query):\n",
    "    if 'dynamic programming' in query:\n",
    "        query+=' dp'\n",
    "    elif 'dp' in query:\n",
    "        query+=' dynamic programming '\n",
    "        \n",
    "    if query in query_logs:\n",
    "        return query_logs[query]\n",
    "    else:\n",
    "        query_words=query.lower().split()\n",
    "              \n",
    "        query_length=len(query_words)\n",
    "        query_term_weight={}\n",
    "        for qw in query_words:\n",
    "            if qw not in query_term_weight:\n",
    "                query_term_weight[qw]=1\n",
    "            else:\n",
    "                query_term_weight[qw]+=1\n",
    "        \n",
    "\n",
    "        query_meta={}\n",
    "        query_meta['query_length']=query_length\n",
    "        query_meta['query_term_weight']=query_term_weight\n",
    "        query_meta['query_words']=query_words\n",
    "        query_meta['query']=query\n",
    "        query_meta['related_query']=[]\n",
    "        query_logs[query]=query_meta\n",
    "        return query_meta"
   ]
  },
  {
   "cell_type": "code",
   "execution_count": 71,
   "metadata": {},
   "outputs": [],
   "source": [
    "import pandas as pd\n",
    "def do_search(query,meta,weighted_scores):\n",
    "    d_scores={}\n",
    "    query_meta=get_query_meta(query)\n",
    "    print(\"query:\",query_meta['query'])\n",
    "    print(\"result:\")\n",
    "    for i in range(1,meta['num_docs']):      \n",
    "        d_scores[i]=[ranker.score(query_meta,i,meta)+get_weighted_score(query_meta,i,weighted_scores)]\n",
    "    my_frame=pd.DataFrame.from_dict(d_scores).T\n",
    "    my_frame.columns=['scores']\n",
    "    my_frame=my_frame.sort_values(by='scores',ascending=False)\n",
    "    print(my_frame.head(10))\n",
    "#     print(\"related query:\")\n",
    "#     RQ_len=5\n",
    "#     if len(query_meta['related_query'])<5:\n",
    "#         RQ_len=len(query_meta['related_query'])       \n",
    "#     for i in range(RQ_len):\n",
    "#         print(query_meta['related_query'][i], end=\" \")\n",
    "    return d_scores,my_frame"
   ]
  },
  {
   "cell_type": "code",
   "execution_count": 15,
   "metadata": {},
   "outputs": [],
   "source": [
    "query_logs={}"
   ]
  },
  {
   "cell_type": "code",
   "execution_count": 16,
   "metadata": {},
   "outputs": [],
   "source": [
    "ranker=bm25_ctf()"
   ]
  },
  {
   "cell_type": "code",
   "execution_count": 120,
   "metadata": {},
   "outputs": [],
   "source": [
    "query=\"police\""
   ]
  },
  {
   "cell_type": "code",
   "execution_count": 121,
   "metadata": {},
   "outputs": [
    {
     "name": "stdout",
     "output_type": "stream",
     "text": [
      "query: police\n",
      "result:\n",
      "         scores\n",
      "897   65.165925\n",
      "898   64.354043\n",
      "966   63.725477\n",
      "899   60.501592\n",
      "896   60.240485\n",
      "967   59.342602\n",
      "1357  59.300779\n",
      "1355  58.988451\n",
      "1358  58.164053\n",
      "968   57.878802\n"
     ]
    }
   ],
   "source": [
    "d_scores,my_frame=do_search(query,meta,weighted_scores)"
   ]
  },
  {
   "cell_type": "code",
   "execution_count": 122,
   "metadata": {},
   "outputs": [
    {
     "data": {
      "text/plain": [
       "[897, 898, 966, 899, 896, 967, 1357, 1355, 1358, 968]"
      ]
     },
     "execution_count": 122,
     "metadata": {},
     "output_type": "execute_result"
    }
   ],
   "source": [
    "id_=list(my_frame.head(10).index.values)\n",
    "id_"
   ]
  },
  {
   "cell_type": "code",
   "execution_count": 123,
   "metadata": {},
   "outputs": [
    {
     "name": "stdout",
     "output_type": "stream",
     "text": [
      "C 1ms, O(1)space,  very simple solution\n",
      "https://leetcode.com/problems/house-robber/discuss/55693/C-1ms-O(1)space-very-simple-solution\n",
      "Java O(n) solution, space O(1)\n",
      "https://leetcode.com/problems/house-robber/discuss/55681/Java-O(n)-solution-space-O(1)\n",
      "Simple AC solution in Java in O(n) with explanation\n",
      "https://leetcode.com/problems/house-robber-ii/discuss/59934/Simple-AC-solution-in-Java-in-O(n)-with-explanation\n",
      "Python solution, 3 lines.\n",
      "https://leetcode.com/problems/house-robber/discuss/55696/Python-solution-3-lines.\n",
      "From good to great. How to approach most of DP problems.\n",
      "https://leetcode.com/problems/house-robber/discuss/156523/From-good-to-great.-How-to-approach-most-of-DP-problems.\n",
      "9-lines 0ms O(1)-Space C++ solution\n",
      "https://leetcode.com/problems/house-robber-ii/discuss/59921/9-lines-0ms-O(1)-Space-C%2B%2B-solution\n",
      "Easy understanding solution with dfs\n",
      "https://leetcode.com/problems/house-robber-iii/discuss/79363/Easy-understanding-solution-with-dfs\n",
      "Easy to understand AC C++ solution O(n*k^2) using map\n",
      "https://leetcode.com/problems/palindrome-pairs/discuss/79215/Easy-to-understand-AC-C%2B%2B-solution-O(n*k2)-using-map\n",
      "Simple C++ solution\n",
      "https://leetcode.com/problems/house-robber-iii/discuss/79333/Simple-C%2B%2B-solution\n",
      "Twice pass solution, C++\n",
      "https://leetcode.com/problems/house-robber-ii/discuss/59944/Twice-pass-solution-C%2B%2B\n"
     ]
    }
   ],
   "source": [
    "for each in id_:\n",
    "    qid,did=document_map[str(each)].split(\"-\")\n",
    "    print(discussion_lists[str(qid)][int(did)]['discussion_title'])\n",
    "    print(discussion_lists[str(qid)][int(did)]['discussion_link'])\n",
    "#     print(leetcode_questions[str(qid)]['problem_title'])\n",
    "#     print(leetcode_questions[str(qid)]['problem_url'])\n",
    "    \n",
    "#     print(leetcode_questions[str(qid)])\n",
    "#     print(discussion_lists[str(qid)][int(did)])"
   ]
  },
  {
   "cell_type": "markdown",
   "metadata": {},
   "source": [
    "# add some feedback"
   ]
  },
  {
   "cell_type": "code",
   "execution_count": 1,
   "metadata": {},
   "outputs": [],
   "source": [
    "def get_update_word_list(item_list,threshold=3):\n",
    "    word_list=[]\n",
    "    for i in item_list:\n",
    "        for w in meta['doc_unique_terms'][i]:\n",
    "            important_score=meta['btf'][w][i]*(1/meta['doc_count'][w])\n",
    "            if important_score>threshold:\n",
    "                word_list.append(w)\n",
    "                print(w,important_score)\n",
    "    return word_list"
   ]
  },
  {
   "cell_type": "code",
   "execution_count": 2,
   "metadata": {},
   "outputs": [],
   "source": [
    "# used for feedback\n",
    "def query_meta_update(query_meta,word_lists,update_rate=1):\n",
    "    \n",
    "    for w in word_lists:\n",
    "        query_meta['query_words'].append(w)\n",
    "        if w not in query_meta['query_term_weight']:\n",
    "            query_meta['query_term_weight'][w]=update_rate\n",
    "        else:\n",
    "            query_meta['query_term_weight'][w]+=update_rate\n",
    "        query_meta['query_length']+=update_rate*len(word_lists)\n",
    "        \n",
    "        query_meta['related_query'].append(w)\n",
    "    \n",
    "    return query_meta"
   ]
  },
  {
   "cell_type": "code",
   "execution_count": 259,
   "metadata": {},
   "outputs": [
    {
     "name": "stdout",
     "output_type": "stream",
     "text": [
      "good 4.0\n",
      "2018 4.0\n",
      "haha 4.0\n",
      "luck 4.0\n"
     ]
    }
   ],
   "source": [
    "word_list=get_update_word_list(item_list)"
   ]
  },
  {
   "cell_type": "code",
   "execution_count": 260,
   "metadata": {},
   "outputs": [],
   "source": [
    "query_logs[query]=query_meta_update(get_query_meta(query),word_list)"
   ]
  },
  {
   "cell_type": "code",
   "execution_count": 261,
   "metadata": {},
   "outputs": [
    {
     "name": "stdout",
     "output_type": "stream",
     "text": [
      "query: hello baby * good 2018 haha luck * \n",
      "result:\n",
      "0 0.37061128130176607\n",
      "1 0\n",
      "2 0.1938100058015275\n",
      "3 2.2973177085906604\n",
      "4 9.189270834362642\n",
      "related query:\n",
      "hello baby "
     ]
    }
   ],
   "source": [
    "d_scores=do_search(query,meta)"
   ]
  },
  {
   "cell_type": "code",
   "execution_count": null,
   "metadata": {},
   "outputs": [],
   "source": []
  },
  {
   "cell_type": "code",
   "execution_count": null,
   "metadata": {},
   "outputs": [],
   "source": []
  }
 ],
 "metadata": {
  "kernelspec": {
   "display_name": "Python 3",
   "language": "python",
   "name": "python3"
  },
  "language_info": {
   "codemirror_mode": {
    "name": "ipython",
    "version": 3
   },
   "file_extension": ".py",
   "mimetype": "text/x-python",
   "name": "python",
   "nbconvert_exporter": "python",
   "pygments_lexer": "ipython3",
   "version": "3.6.6"
  }
 },
 "nbformat": 4,
 "nbformat_minor": 2
}
