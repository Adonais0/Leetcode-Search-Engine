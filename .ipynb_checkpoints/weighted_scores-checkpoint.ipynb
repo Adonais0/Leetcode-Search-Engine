{
 "cells": [
  {
   "cell_type": "code",
   "execution_count": 1,
   "metadata": {},
   "outputs": [],
   "source": [
    "import json"
   ]
  },
  {
   "cell_type": "code",
   "execution_count": 2,
   "metadata": {},
   "outputs": [],
   "source": [
    "# get discussion_list\n",
    "try:\n",
    "    cache_file = open('discussion_list3.json', 'r')\n",
    "    cache_contents = cache_file.read()\n",
    "    discussion_lists = json.loads(cache_contents)\n",
    "    cache_file.close()\n",
    "except:\n",
    "    print(\"something bad happens!\")\n",
    "    \n",
    "try:\n",
    "    cache_file = open('leetcode_questions.json', 'r')\n",
    "    cache_contents = cache_file.read()\n",
    "    leetcode_questions = json.loads(cache_contents)\n",
    "    cache_file.close()\n",
    "except:\n",
    "    print(\"something bad happens!\")\n",
    "    \n",
    "try:\n",
    "    cache_file = open('problem_descriptions.json', 'r')\n",
    "    cache_contents = cache_file.read()\n",
    "    problem_descriptions = json.loads(cache_contents)\n",
    "    cache_file.close()\n",
    "except:\n",
    "    print(\"something bad happens!\")"
   ]
  },
  {
   "cell_type": "code",
   "execution_count": 76,
   "metadata": {},
   "outputs": [
    {
     "data": {
      "text/plain": [
       "['the',\n",
       " 'a',\n",
       " 'of',\n",
       " 'and',\n",
       " 'is',\n",
       " 'to',\n",
       " 'in',\n",
       " 'given',\n",
       " 'you',\n",
       " '|',\n",
       " 'that',\n",
       " 'array',\n",
       " 'solution',\n",
       " 'if',\n",
       " 'with',\n",
       " 'string',\n",
       " 'an',\n",
       " 'are',\n",
       " 'number',\n",
       " 'return',\n",
       " 'medium',\n",
       " 'be',\n",
       " 'each',\n",
       " 'for',\n",
       " 'tree',\n",
       " 'n',\n",
       " 'easy',\n",
       " 'two',\n",
       " 'all',\n",
       " 'it',\n",
       " 'java',\n",
       " '1',\n",
       " 'list',\n",
       " 'binary',\n",
       " 'one',\n",
       " 'find',\n",
       " 'as',\n",
       " 'search',\n",
       " 'at',\n",
       " 'from',\n",
       " 'or',\n",
       " 'we',\n",
       " 'can',\n",
       " 'by',\n",
       " 'integer',\n",
       " 'not',\n",
       " 'only',\n",
       " 'have',\n",
       " 'node',\n",
       " 'there']"
      ]
     },
     "execution_count": 76,
     "metadata": {},
     "output_type": "execute_result"
    }
   ],
   "source": [
    "sorted(meta['corpus_term_count'], key=lambda x:meta['corpus_term_count'][x], reverse=True)[:50]"
   ]
  },
  {
   "cell_type": "code",
   "execution_count": 84,
   "metadata": {},
   "outputs": [],
   "source": [
    "prog_lan_score={}"
   ]
  },
  {
   "cell_type": "code",
   "execution_count": 6,
   "metadata": {},
   "outputs": [],
   "source": [
    "tag_score={}"
   ]
  },
  {
   "cell_type": "code",
   "execution_count": 8,
   "metadata": {},
   "outputs": [],
   "source": [
    "title_score={}"
   ]
  },
  {
   "cell_type": "code",
   "execution_count": 58,
   "metadata": {},
   "outputs": [],
   "source": [
    "difficulty_score={}"
   ]
  },
  {
   "cell_type": "code",
   "execution_count": 61,
   "metadata": {},
   "outputs": [],
   "source": [
    "vote_score={}\n",
    "view_score={}"
   ]
  },
  {
   "cell_type": "code",
   "execution_count": 11,
   "metadata": {},
   "outputs": [],
   "source": [
    "import pickle\n",
    "def savePickle(dictfile,filename):\n",
    "\tprint(\"saving....\")\n",
    "\tf=open(filename+\".pickle\",'wb')\n",
    "\tpickle.dump(dictfile,f)\n",
    "\tf.close()\n",
    "\n",
    "def loadPickle(filename):\n",
    "\tprint(\"loading....\")\n",
    "\tf=open(filename+\".pickle\",'rb')\n",
    "\tdictfile=pickle.load(f)\n",
    "\tf.close()\n",
    "\treturn dictfile"
   ]
  },
  {
   "cell_type": "code",
   "execution_count": 12,
   "metadata": {},
   "outputs": [
    {
     "name": "stdout",
     "output_type": "stream",
     "text": [
      "loading....\n"
     ]
    }
   ],
   "source": [
    "meta=loadPickle('meta_stop')"
   ]
  },
  {
   "cell_type": "code",
   "execution_count": 62,
   "metadata": {},
   "outputs": [],
   "source": [
    "f=open('documents_id.txt')\n",
    "lines=f.readlines()\n",
    "f.close()\n",
    "document_map={}\n",
    "document_map2={}\n",
    "for each in lines:\n",
    "    my_data=each.split(\"\\t\")\n",
    "    document_map[my_data[0]]=my_data[1][:-1]\n",
    "    document_map2[my_data[1][:-1]]=my_data[0]"
   ]
  },
  {
   "cell_type": "code",
   "execution_count": 85,
   "metadata": {},
   "outputs": [],
   "source": [
    "prog_language=['java','python','c++']\n",
    "for lg in prog_language:\n",
    "    for each in meta['doc_term_count'][lg]:\n",
    "        if lg in prog_lan_score:\n",
    "            prog_lan_score[lg][each+1]=meta['doc_term_count'][lg][each]*100\n",
    "        else:\n",
    "            prog_lan_score[lg]={}\n",
    "            prog_lan_score[lg][each+1]=meta['doc_term_count'][lg][each]*100"
   ]
  },
  {
   "cell_type": "code",
   "execution_count": 86,
   "metadata": {},
   "outputs": [
    {
     "data": {
      "text/plain": [
       "100"
      ]
     },
     "execution_count": 86,
     "metadata": {},
     "output_type": "execute_result"
    }
   ],
   "source": [
    "prog_lan_score['java'][4]"
   ]
  },
  {
   "cell_type": "code",
   "execution_count": 87,
   "metadata": {},
   "outputs": [],
   "source": [
    "proxy_map_id={}\n",
    "for each in document_map:\n",
    "    pid,dif=document_map[each].split(\"-\")\n",
    "    if pid in proxy_map_id:\n",
    "        proxy_map_id[pid].append(each)\n",
    "    else:\n",
    "        proxy_map_id[pid]=[each]"
   ]
  },
  {
   "cell_type": "code",
   "execution_count": 88,
   "metadata": {},
   "outputs": [
    {
     "data": {
      "text/plain": [
       "['1', '2', '3', '4', '5']"
      ]
     },
     "execution_count": 88,
     "metadata": {},
     "output_type": "execute_result"
    }
   ],
   "source": [
    "proxy_map_id['2']"
   ]
  },
  {
   "cell_type": "code",
   "execution_count": 89,
   "metadata": {},
   "outputs": [],
   "source": [
    "tag_score={}\n",
    "difficulty_score={}\n",
    "title_score={}\n",
    "for each in problem_descriptions:\n",
    "    if str(each) in proxy_map_id:\n",
    "        tags=problem_descriptions[each]['problem_tags']\n",
    "        for t in tags:\n",
    "            if t.lower() not in tag_score:\n",
    "                tag_score[t.lower()]={}\n",
    "                for ids_ in proxy_map_id[str(each)]:\n",
    "                    tag_score[t.lower()][ids_]=100\n",
    "            else:\n",
    "                for ids_ in proxy_map_id[str(each)]:\n",
    "                    tag_score[t.lower()][ids_]=100\n",
    "        difficulty=leetcode_questions[each]['problem_difficult'].lower()\n",
    "        \n",
    "        if difficulty not in difficulty_score:\n",
    "            difficulty_score[difficulty]={}\n",
    "            for ids_ in proxy_map_id[str(each)]:\n",
    "                difficulty_score[difficulty][ids_]=100\n",
    "        else:\n",
    "            for ids_ in proxy_map_id[str(each)]:\n",
    "                difficulty_score[difficulty][ids_]=100\n",
    "                \n",
    "        title=leetcode_questions[each]['problem_title'].lower()        \n",
    "        if title not in title_score:\n",
    "            title_score[title]={}\n",
    "            for ids_ in proxy_map_id[str(each)]:\n",
    "                title_score[title][ids_]=100\n",
    "        else:\n",
    "            for ids_ in proxy_map_id[str(each)]:\n",
    "                title_score[title][ids_]=100"
   ]
  },
  {
   "cell_type": "code",
   "execution_count": 90,
   "metadata": {},
   "outputs": [
    {
     "data": {
      "text/plain": [
       "100"
      ]
     },
     "execution_count": 90,
     "metadata": {},
     "output_type": "execute_result"
    }
   ],
   "source": [
    "tag_score['array']['11']"
   ]
  },
  {
   "cell_type": "code",
   "execution_count": 110,
   "metadata": {},
   "outputs": [],
   "source": [
    "keywords_in_discussion={}\n",
    "for t in tag_score:\n",
    "    keywords_in_discussion[t]={}"
   ]
  },
  {
   "cell_type": "code",
   "execution_count": 124,
   "metadata": {},
   "outputs": [],
   "source": [
    "vote_score={}\n",
    "view_score={}\n",
    "\n",
    "for each in discussion_lists:\n",
    "    for i,d in enumerate(discussion_lists[each]):\n",
    "        if str(each+\"-\"+str(i)) in document_map2:\n",
    "            if \"K\" not in d['discussion_vote']:\n",
    "                vote_score[document_map2[each+\"-\"+str(i)]]=int(d['discussion_vote'])\n",
    "            else:\n",
    "                view_score[document_map2[each+\"-\"+str(i)]]=int(float(d['discussion_vote'][:-1])*1000)\n",
    "            \n",
    "            if \"K\" not in d['discussion_views']:\n",
    "                view_score[document_map2[each+\"-\"+str(i)]]=int(d['discussion_views'])\n",
    "            else:\n",
    "                view_score[document_map2[each+\"-\"+str(i)]]=int(float(d['discussion_views'][:-1])*1000)\n",
    "            for t in keywords_in_discussion:\n",
    "                if t in d['discussion_title'].lower():\n",
    "                    keywords_in_discussion[t][document_map2[each+\"-\"+str(i)]]=100"
   ]
  },
  {
   "cell_type": "code",
   "execution_count": 125,
   "metadata": {},
   "outputs": [],
   "source": [
    "weighted_scores={}\n",
    "weighted_scores['prog_lan_score']=prog_lan_score\n",
    "weighted_scores['tag_score']=tag_score\n",
    "weighted_scores['difficulty_score']=difficulty_score\n",
    "weighted_scores['title_score']=title_score\n",
    "weighted_scores['vote_score']=vote_score\n",
    "weighted_scores['view_score']=view_score\n",
    "weighted_scores['keywords_in_discussion']=keywords_in_discussion"
   ]
  },
  {
   "cell_type": "code",
   "execution_count": 126,
   "metadata": {},
   "outputs": [
    {
     "name": "stdout",
     "output_type": "stream",
     "text": [
      "saving....\n"
     ]
    }
   ],
   "source": [
    "savePickle(weighted_scores,'weighted_scores')"
   ]
  },
  {
   "cell_type": "code",
   "execution_count": null,
   "metadata": {},
   "outputs": [],
   "source": []
  }
 ],
 "metadata": {
  "kernelspec": {
   "display_name": "Python 3",
   "language": "python",
   "name": "python3"
  },
  "language_info": {
   "codemirror_mode": {
    "name": "ipython",
    "version": 3
   },
   "file_extension": ".py",
   "mimetype": "text/x-python",
   "name": "python",
   "nbconvert_exporter": "python",
   "pygments_lexer": "ipython3",
   "version": "3.6.6"
  }
 },
 "nbformat": 4,
 "nbformat_minor": 2
}
