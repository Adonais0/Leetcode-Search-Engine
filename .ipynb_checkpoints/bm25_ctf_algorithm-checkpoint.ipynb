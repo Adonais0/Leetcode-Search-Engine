{
 "cells": [
  {
   "cell_type": "code",
   "execution_count": 33,
   "metadata": {},
   "outputs": [],
   "source": [
    "import pickle\n",
    "def savePickle(dictfile,filename):\n",
    "\tprint(\"saving....\")\n",
    "\tf=open(filename+\".pickle\",'wb')\n",
    "\tpickle.dump(dictfile,f)\n",
    "\tf.close()\n",
    "\n",
    "def loadPickle(filename):\n",
    "\tprint(\"loading....\")\n",
    "\tf=open(filename+\".pickle\",'rb')\n",
    "\tdictfile=pickle.load(f)\n",
    "\tf.close()\n",
    "\treturn dictfile"
   ]
  },
  {
   "cell_type": "code",
   "execution_count": 34,
   "metadata": {},
   "outputs": [
    {
     "name": "stdout",
     "output_type": "stream",
     "text": [
      "loading....\n"
     ]
    }
   ],
   "source": [
    "meta=loadPickle('meta')"
   ]
  },
  {
   "cell_type": "code",
   "execution_count": 39,
   "metadata": {},
   "outputs": [],
   "source": [
    "import math\n",
    "\n",
    "class bm25_ctf():                                            \n",
    "                                                                       \n",
    "    def __init__(self, k1 = 1.25, b = 0.9, k3 = 1000):                                             \n",
    "        self.k1 = k1\n",
    "        self.b = b\n",
    "        self.k3 = k3                                      \n",
    "                                                                                 \n",
    "    def score_one(self, w,query_meta,meta,document_id):\n",
    "        k1 = self.k1\n",
    "        b = self.b\n",
    "        k3 = self.k3\n",
    "        #Fill your answer here\n",
    "        ictf=math.log(meta['total_terms']/meta['corpus_term_count'][w])\n",
    "        pidf=math.log(-(1-2**(-meta['corpus_term_count'][w]/meta['num_docs']))/(math.log(1-meta['doc_count'][w]/meta['num_docs']))+1)\n",
    "        idf=math.log((meta['num_docs']-meta['doc_count'][w]+0.5)/(meta['doc_count'][w]+0.5))\n",
    "        bidf=ictf*pidf*idf\n",
    "        tf=((k1+1)*meta['btf'][w][document_id])/(k1*(1-b+b*meta['doc_size'][document_id]/meta['avg_dl'])+meta['btf'][w][document_id])\n",
    "        qtf=((k3+1)*query_meta['query_term_weight'][w])/(k3+query_meta['query_term_weight'][w])\n",
    "        \n",
    "        res=bidf*tf*qtf\n",
    "        \n",
    "        return res\n",
    "    \n",
    "    def score(self,query,document_id,meta):\n",
    "        query_words=query.split()\n",
    "        query_length=len(query_words)\n",
    "        query_term_weight={}\n",
    "        for qw in query_words:\n",
    "            if qw not in query_term_weight:\n",
    "                query_term_weight[qw]=1\n",
    "            else:\n",
    "                query_term_weight[qw]+=1\n",
    "                \n",
    "        query_meta={}\n",
    "        query_meta['query_length']=query_length\n",
    "        query_meta['query_term_weight']=query_term_weight\n",
    "        words=set(query_words) & meta['doc_unique_terms'][document_id]\n",
    "        score=0\n",
    "        for w in words:\n",
    "            score+=self.score_one(w,query_meta,meta,document_id)\n",
    "        return score"
   ]
  },
  {
   "cell_type": "code",
   "execution_count": 40,
   "metadata": {},
   "outputs": [],
   "source": [
    "ranker=bm25_ctf()"
   ]
  },
  {
   "cell_type": "code",
   "execution_count": 41,
   "metadata": {},
   "outputs": [],
   "source": [
    "query=\"hello baby\""
   ]
  },
  {
   "cell_type": "code",
   "execution_count": 42,
   "metadata": {},
   "outputs": [
    {
     "name": "stdout",
     "output_type": "stream",
     "text": [
      "0 0.37061128130176607\n",
      "1 0\n",
      "2 0.1938100058015275\n",
      "3 2.2973177085906604\n",
      "4 0\n"
     ]
    }
   ],
   "source": [
    "for i in range(5):\n",
    "    print(i,ranker.score(query,i,meta))"
   ]
  },
  {
   "cell_type": "code",
   "execution_count": null,
   "metadata": {},
   "outputs": [],
   "source": []
  }
 ],
 "metadata": {
  "kernelspec": {
   "display_name": "Python 3",
   "language": "python",
   "name": "python3"
  },
  "language_info": {
   "codemirror_mode": {
    "name": "ipython",
    "version": 3
   },
   "file_extension": ".py",
   "mimetype": "text/x-python",
   "name": "python",
   "nbconvert_exporter": "python",
   "pygments_lexer": "ipython3",
   "version": "3.6.6"
  }
 },
 "nbformat": 4,
 "nbformat_minor": 2
}
