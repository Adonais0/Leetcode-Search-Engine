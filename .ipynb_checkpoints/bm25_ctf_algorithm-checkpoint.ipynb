{
 "cells": [
  {
   "cell_type": "code",
   "execution_count": 3,
   "metadata": {},
   "outputs": [],
   "source": [
    "import json"
   ]
  },
  {
   "cell_type": "code",
   "execution_count": 4,
   "metadata": {},
   "outputs": [],
   "source": [
    "# get discussion_list\n",
    "try:\n",
    "    cache_file = open('discussion_list3.json', 'r')\n",
    "    cache_contents = cache_file.read()\n",
    "    discussion_lists = json.loads(cache_contents)\n",
    "    cache_file.close()\n",
    "except:\n",
    "    print(\"something bad happens!\")\n",
    "    \n",
    "try:\n",
    "    cache_file = open('leetcode_questions.json', 'r')\n",
    "    cache_contents = cache_file.read()\n",
    "    leetcode_questions = json.loads(cache_contents)\n",
    "    cache_file.close()\n",
    "except:\n",
    "    print(\"something bad happens!\")\n",
    "    \n",
    "try:\n",
    "    cache_file = open('problem_descriptions.json', 'r')\n",
    "    cache_contents = cache_file.read()\n",
    "    problem_descriptions = json.loads(cache_contents)\n",
    "    cache_file.close()\n",
    "except:\n",
    "    print(\"something bad happens!\")"
   ]
  },
  {
   "cell_type": "markdown",
   "metadata": {},
   "source": [
    "# BM25-CTF Algorithm"
   ]
  },
  {
   "cell_type": "code",
   "execution_count": 5,
   "metadata": {},
   "outputs": [],
   "source": [
    "import pickle\n",
    "def savePickle(dictfile,filename):\n",
    "\tprint(\"saving....\")\n",
    "\tf=open(filename+\".pickle\",'wb')\n",
    "\tpickle.dump(dictfile,f)\n",
    "\tf.close()\n",
    "\n",
    "def loadPickle(filename):\n",
    "\tprint(\"loading....\")\n",
    "\tf=open(filename+\".pickle\",'rb')\n",
    "\tdictfile=pickle.load(f)\n",
    "\tf.close()\n",
    "\treturn dictfile"
   ]
  },
  {
   "cell_type": "code",
   "execution_count": 6,
   "metadata": {},
   "outputs": [
    {
     "name": "stdout",
     "output_type": "stream",
     "text": [
      "loading....\n"
     ]
    }
   ],
   "source": [
    "meta=loadPickle('meta_stop')"
   ]
  },
  {
   "cell_type": "code",
   "execution_count": 7,
   "metadata": {},
   "outputs": [
    {
     "name": "stdout",
     "output_type": "stream",
     "text": [
      "loading....\n"
     ]
    }
   ],
   "source": [
    "weighted_scores=loadPickle('weighted_scores')"
   ]
  },
  {
   "cell_type": "code",
   "execution_count": 8,
   "metadata": {},
   "outputs": [],
   "source": [
    "f=open('documents_id.txt')\n",
    "lines=f.readlines()\n",
    "f.close()\n",
    "document_map={}\n",
    "for each in lines:\n",
    "    my_data=each.split(\"\\t\")\n",
    "    document_map[my_data[0]]=my_data[1][:-1]"
   ]
  },
  {
   "cell_type": "code",
   "execution_count": 9,
   "metadata": {},
   "outputs": [],
   "source": [
    "import math\n",
    "\n",
    "class bm25_ctf():                                            \n",
    "                                                                       \n",
    "    def __init__(self, k1 = 1.25, b = 0.9, k3 = 500):                                             \n",
    "        self.k1 = k1\n",
    "        self.b = b\n",
    "        self.k3 = k3                                      \n",
    "                                                                                 \n",
    "    def score_one(self, w,query_meta,meta,document_id):\n",
    "        k1 = self.k1\n",
    "        b = self.b\n",
    "        k3 = self.k3\n",
    "        #Fill your answer here\n",
    "        ictf=math.log(meta['total_terms']/meta['corpus_term_count'][w])\n",
    "        pidf=math.log(-(1-2**(-meta['corpus_term_count'][w]/meta['num_docs']))/(math.log(1-meta['doc_count'][w]/meta['num_docs']))+1)\n",
    "        idf=math.log((meta['num_docs']-meta['doc_count'][w]+0.5)/(meta['doc_count'][w]+0.5))\n",
    "        bidf=ictf*pidf*idf\n",
    "        tf=((k1+1)*meta['btf'][w][document_id])/(k1*(1-b+b*meta['doc_size'][document_id]/meta['avg_dl'])+meta['btf'][w][document_id])\n",
    "        qtf=((k3+1)*query_meta['query_term_weight'][w])/(k3+query_meta['query_term_weight'][w])\n",
    "        \n",
    "        res=bidf*tf*qtf\n",
    "        \n",
    "        return res\n",
    "    \n",
    "    def score(self,query_meta,document_id,meta):\n",
    "        words=set(query_meta['query_words']) & meta['doc_unique_terms'][document_id]\n",
    "        score=0\n",
    "        for w in words:\n",
    "            score+=self.score_one(w,query_meta,meta,document_id)\n",
    "        return score"
   ]
  },
  {
   "cell_type": "code",
   "execution_count": 10,
   "metadata": {},
   "outputs": [],
   "source": [
    "def get_weighted_score(query_meta,i,weighted_scores):\n",
    "    score=0\n",
    "    prog_lan_score=weighted_scores['prog_lan_score']\n",
    "    tag_score=weighted_scores['tag_score']\n",
    "    difficulty_score=weighted_scores['difficulty_score']\n",
    "    title_score=weighted_scores['title_score']\n",
    "    keywords_in_discussion=weighted_scores['keywords_in_discussion']\n",
    "    for t in tag_score:\n",
    "        if t in query_meta['query']:\n",
    "            if str(i) in tag_score[t]:\n",
    "                score+=tag_score[t][str(i)]*0.3\n",
    "        if t in query_meta['query']:\n",
    "            if str(i) in keywords_in_discussion[t]:\n",
    "                score+=keywords_in_discussion[t][str(i)]\n",
    "    for t in title_score:\n",
    "        if t in query_meta['query']:\n",
    "            if str(i) in title_score[t]:\n",
    "                score+=title_score[t][str(i)]\n",
    "\n",
    "    for w in query_meta['query'].split():\n",
    "        if w in weighted_scores['prog_lan_score']:\n",
    "            if i in weighted_scores['prog_lan_score'][w]:\n",
    "                score+=weighted_scores['prog_lan_score'][w][i]*0.3\n",
    "        if w in weighted_scores['difficulty_score']:\n",
    "            if str(i) in weighted_scores['difficulty_score'][w]:\n",
    "                score+=weighted_scores['difficulty_score'][w][str(i)]*0.3\n",
    "        elif w=='difficult':\n",
    "            if str(i) in weighted_scores['difficulty_score']['hard']:\n",
    "                score+=weighted_scores['difficulty_score']['hard'][str(i)]*0.3\n",
    "    \n",
    "    vote_score=weighted_scores['vote_score']\n",
    "    view_score=weighted_scores['view_score']\n",
    "    if str(i) in vote_score:\n",
    "        score+=vote_score[str(i)]*0.01+view_score[str(i)]*0.0001\n",
    "                \n",
    "    return score"
   ]
  },
  {
   "cell_type": "code",
   "execution_count": 11,
   "metadata": {},
   "outputs": [],
   "source": [
    "def get_query_meta(query):\n",
    "    if 'dynamic programming' in query:\n",
    "        query+=' dp'\n",
    "    elif 'dp' in query:\n",
    "        query+=' dynamic programming'\n",
    "        \n",
    "    if query in query_logs:\n",
    "        return query_logs[query]\n",
    "    else:\n",
    "        query_words=query.lower().split()\n",
    "              \n",
    "        query_length=len(query_words)\n",
    "        query_term_weight={}\n",
    "        for qw in query_words:\n",
    "            if qw not in query_term_weight:\n",
    "                query_term_weight[qw]=1\n",
    "            else:\n",
    "                query_term_weight[qw]+=1\n",
    "        \n",
    "\n",
    "        query_meta={}\n",
    "        query_meta['query_length']=query_length\n",
    "        query_meta['query_term_weight']=query_term_weight\n",
    "        query_meta['query_words']=query_words\n",
    "        query_meta['query']=query\n",
    "        query_meta['related_query']=[]\n",
    "        query_logs[query]=query_meta\n",
    "        return query_meta"
   ]
  },
  {
   "cell_type": "code",
   "execution_count": 26,
   "metadata": {},
   "outputs": [],
   "source": [
    "import pandas as pd\n",
    "def do_search(query,meta,weighted_scores):\n",
    "    d_scores={}\n",
    "    query_meta=get_query_meta(query)\n",
    "    print(\"query:\",query_meta['query'])\n",
    "#     print(\"result:\")\n",
    "    for i in range(1,meta['num_docs']):      \n",
    "        d_scores[i]=[ranker.score(query_meta,i,meta)+get_weighted_score(query_meta,i,weighted_scores)]\n",
    "    my_frame=pd.DataFrame.from_dict(d_scores).T\n",
    "    my_frame.columns=['scores']\n",
    "    my_frame=my_frame.sort_values(by='scores',ascending=False)\n",
    "#     print(my_frame.head(10))\n",
    "#     print(\"related query:\")\n",
    "#     RQ_len=5\n",
    "#     if len(query_meta['related_query'])<5:\n",
    "#         RQ_len=len(query_meta['related_query'])       \n",
    "#     for i in range(RQ_len):\n",
    "#         print(query_meta['related_query'][i], end=\" \")\n",
    "    return d_scores,my_frame"
   ]
  },
  {
   "cell_type": "code",
   "execution_count": 13,
   "metadata": {},
   "outputs": [],
   "source": [
    "query_logs={}"
   ]
  },
  {
   "cell_type": "code",
   "execution_count": 14,
   "metadata": {},
   "outputs": [],
   "source": [
    "ranker=bm25_ctf()"
   ]
  },
  {
   "cell_type": "code",
   "execution_count": 15,
   "metadata": {},
   "outputs": [],
   "source": [
    "query=\"police\""
   ]
  },
  {
   "cell_type": "code",
   "execution_count": 16,
   "metadata": {},
   "outputs": [
    {
     "name": "stdout",
     "output_type": "stream",
     "text": [
      "query: police\n",
      "result:\n",
      "         scores\n",
      "897   65.165925\n",
      "898   64.354043\n",
      "966   63.725477\n",
      "899   60.501592\n",
      "896   60.240485\n",
      "967   59.342602\n",
      "1357  59.300779\n",
      "1355  58.988451\n",
      "1358  58.164053\n",
      "968   57.878802\n"
     ]
    }
   ],
   "source": [
    "d_scores,my_frame=do_search(query,meta,weighted_scores)"
   ]
  },
  {
   "cell_type": "code",
   "execution_count": 17,
   "metadata": {},
   "outputs": [
    {
     "data": {
      "text/plain": [
       "[897, 898, 966, 899, 896, 967, 1357, 1355, 1358, 968]"
      ]
     },
     "execution_count": 17,
     "metadata": {},
     "output_type": "execute_result"
    }
   ],
   "source": [
    "id_=list(my_frame.head(10).index.values)\n",
    "id_"
   ]
  },
  {
   "cell_type": "code",
   "execution_count": 62,
   "metadata": {},
   "outputs": [],
   "source": [
    "queries=[\"difficult question with dynamic programming\",\n",
    "    'java',\n",
    "    \"binary search\",\n",
    "    \"python slide window\",\n",
    "    \"3sum\",\n",
    "    \"police\",\n",
    "    'matrix problems python solutions',\n",
    "    '3sum O(n^2) java easy solution',\n",
    "    'c++ dfs solutions',\n",
    "    'java easy solution linked list for LRU Cache',\n",
    "    'recursive java solution for longest univalue path']"
   ]
  },
  {
   "cell_type": "code",
   "execution_count": 63,
   "metadata": {},
   "outputs": [
    {
     "name": "stdout",
     "output_type": "stream",
     "text": [
      "loading....\n"
     ]
    }
   ],
   "source": [
    "my_annotation=loadPickle('my_query_annotation')"
   ]
  },
  {
   "cell_type": "code",
   "execution_count": 65,
   "metadata": {},
   "outputs": [
    {
     "name": "stdout",
     "output_type": "stream",
     "text": [
      " \n",
      "query: difficult question with dynamic programming dp\n",
      "1986\n",
      "C++ dynamic programming, O(N^3), 32 ms, with comments\n",
      "https://leetcode.com/problems/burst-balloons/discuss/76232/C%2B%2B-dynamic-programming-O(N3)-32-ms-with-comments\n",
      "Java Solution using Dynamic Programming, O(1) space\n",
      "https://leetcode.com/problems/unique-paths-ii/discuss/23291/Java-Solution-using-Dynamic-Programming-O(1)-space\n",
      "C++ 0ms O(N) dynamic programming solution\n",
      "https://leetcode.com/problems/wiggle-subsequence/discuss/84887/C%2B%2B-0ms-O(N)-dynamic-programming-solution\n",
      "C++ Dynamic Programming\n",
      "https://leetcode.com/problems/maximal-square/discuss/61803/C%2B%2B-Dynamic-Programming\n",
      "Share my Java solution using dynamic programming\n",
      "https://leetcode.com/problems/longest-palindromic-substring/discuss/2921/Share-my-Java-solution-using-dynamic-programming\n",
      "C++ Dynamic Programming simple and fast solution (4ms) with optimization\n",
      "https://leetcode.com/problems/word-break/discuss/43814/C%2B%2B-Dynamic-Programming-simple-and-fast-solution-(4ms)-with-optimization\n",
      "C++ solution using Dynamic Programming\n",
      "https://leetcode.com/problems/cheapest-flights-within-k-stops/discuss/115548/C%2B%2B-solution-using-Dynamic-Programming\n",
      "[Python] Dynamic programming solution with indepth explanation of intuition.\n",
      "https://leetcode.com/problems/bitwise-ors-of-subarrays/discuss/165933/Python-Dynamic-programming-solution-with-indepth-explanation-of-intuition.\n",
      "Simple Java Dynamic Programming without any bitwise operation\n",
      "https://leetcode.com/problems/counting-bits/discuss/79812/Simple-Java-Dynamic-Programming-without-any-bitwise-operation\n",
      "Why does Greedy solution work for this; why not Dynamic Programming ?\n",
      "https://leetcode.com/problems/ipo/discuss/142490/Why-does-Greedy-solution-work-for-this-why-not-Dynamic-Programming\n",
      "map@10: 1.0\n",
      " \n",
      "query: java\n",
      "1522\n",
      "Concise O(N^2) Java solution\n",
      "https://leetcode.com/problems/3sum/discuss/7380/Concise-O(N2)-Java-solution\n",
      "A general approach to backtracking questions in Java (Subsets, Permutations, Combination Sum, Palindrome Partioning)\n",
      "https://leetcode.com/problems/permutations/discuss/18239/A-general-approach-to-backtracking-questions-in-Java-(Subsets-Permutations-Combination-Sum-Palindrome-Partioning)\n",
      "11-line simple Java solution, O(n) with explanation\n",
      "https://leetcode.com/problems/longest-substring-without-repeating-characters/discuss/1729/11-line-simple-Java-solution-O(n)-with-explanation\n",
      "Very simple clean java solution\n",
      "https://leetcode.com/problems/longest-palindromic-substring/discuss/2928/Very-simple-clean-java-solution\n",
      "My accepted 15 lines of code for Java\n",
      "https://leetcode.com/problems/reverse-integer/discuss/4060/My-accepted-15-lines-of-code-for-Java\n",
      "Simple Java solution in O(n) without extra space\n",
      "https://leetcode.com/problems/product-of-array-except-self/discuss/65622/Simple-Java-solution-in-O(n)-without-extra-space\n",
      "Easy, Short, Concise and Fast Java DFS 3 ms solution\n",
      "https://leetcode.com/problems/remove-invalid-parentheses/discuss/75027/Easy-Short-Concise-and-Fast-Java-DFS-3-ms-solution\n",
      "A general approach to backtracking questions in Java (Subsets, Permutations, Combination Sum, Palindrome Partitioning)\n",
      "https://leetcode.com/problems/combination-sum/discuss/16502/A-general-approach-to-backtracking-questions-in-Java-(Subsets-Permutations-Combination-Sum-Palindrome-Partitioning)\n",
      "A general approach to backtracking questions in Java (Subsets, Permutations, Combination Sum, Palindrome Partitioning)\n",
      "https://leetcode.com/problems/subsets/discuss/27281/A-general-approach-to-backtracking-questions-in-Java-(Subsets-Permutations-Combination-Sum-Palindrome-Partitioning)\n",
      "Short java solution\n",
      "https://leetcode.com/problems/valid-parentheses/discuss/9178/Short-java-solution\n",
      "map@10: 1.0\n",
      " \n",
      "query: binary search\n",
      "1093\n",
      "Concise O(log N) Binary search solution\n",
      "https://leetcode.com/problems/search-in-rotated-sorted-array/discuss/14425/Concise-O(log-N)-Binary-search-solution\n",
      "3 ways implemented in JAVA (Python): Binary Search, in-order iterative & recursive\n",
      "https://leetcode.com/problems/kth-smallest-element-in-a-bst/discuss/63660/3-ways-implemented-in-JAVA-(Python)%3A-Binary-Search-in-order-iterative-and-recursive\n",
      "Clean iterative solution with two binary searches (with explanation)\n",
      "https://leetcode.com/problems/find-first-and-last-position-of-element-in-sorted-array/discuss/14699/Clean-iterative-solution-with-two-binary-searches-(with-explanation)\n",
      "Java/Python Binary search O(nlogn) time with explanation\n",
      "https://leetcode.com/problems/longest-increasing-subsequence/discuss/74824/JavaPython-Binary-search-O(nlogn)-time-with-explanation\n",
      "Find the maximum by binary search (recursion and iteration)\n",
      "https://leetcode.com/problems/find-peak-element/discuss/50232/Find-the-maximum-by-binary-search-(recursion-and-iteration)\n",
      "Concise JAVA solution based on Binary Search\n",
      "https://leetcode.com/problems/median-of-two-sorted-arrays/discuss/2496/Concise-JAVA-solution-based-on-Binary-Search\n",
      "Revised Binary Search\n",
      "https://leetcode.com/problems/search-in-rotated-sorted-array/discuss/14436/Revised-Binary-Search\n",
      "A very simple Java solution, with only one binary search algorithm\n",
      "https://leetcode.com/problems/find-first-and-last-position-of-element-in-sorted-array/discuss/14701/A-very-simple-Java-solution-with-only-one-binary-search-algorithm\n",
      "Clear Explanation: 8ms Binary Search Java\n",
      "https://leetcode.com/problems/split-array-largest-sum/discuss/89817/Clear-Explanation%3A-8ms-Binary-Search-Java\n",
      "My solution using Binary Search in C++\n",
      "https://leetcode.com/problems/kth-smallest-element-in-a-sorted-matrix/discuss/85182/My-solution-using-Binary-Search-in-C%2B%2B\n",
      "map@10: 1.0\n",
      " \n",
      "query: python slide window\n",
      "860\n",
      "Java Solution, Sliding Window\n",
      "https://leetcode.com/problems/permutation-in-string/discuss/102588/Java-Solution-Sliding-Window\n",
      "12 lines Python\n",
      "https://leetcode.com/problems/minimum-window-substring/discuss/26804/12-lines-Python\n",
      "Python Sliding Window Solution using Counter\n",
      "https://leetcode.com/problems/find-all-anagrams-in-a-string/discuss/92009/Python-Sliding-Window-Solution-using-Counter\n",
      "Python step-by-step walk through. Easy to understand. Two solutions comparison. : )\n",
      "https://leetcode.com/problems/path-sum-iii/discuss/141424/Python-step-by-step-walk-through.-Easy-to-understand.-Two-solutions-comparison.-%3A-)\n",
      "Consise Python sliding window\n",
      "https://leetcode.com/problems/longest-repeating-character-replacement/discuss/91272/Consise-Python-sliding-window\n",
      "Python, Simple with Explanation\n",
      "https://leetcode.com/problems/permutation-in-string/discuss/102594/Python-Simple-with-Explanation\n",
      "One-line Python (Learn some Python tricks that you might not know)\n",
      "https://leetcode.com/problems/self-dividing-numbers/discuss/162578/One-line-Python-(Learn-some-Python-tricks-that-you-might-not-know)\n",
      "Python simple solution beats 95% python codes - O(n)\n",
      "https://leetcode.com/problems/rle-iterator/discuss/191547/Python-simple-solution-beats-95-python-codes-O(n)\n",
      "Java O(n) solution using deque with explanation\n",
      "https://leetcode.com/problems/sliding-window-maximum/discuss/65884/Java-O(n)-solution-using-deque-with-explanation\n",
      "Sliding Window algorithm template to solve all the Leetcode substring search problem.\n",
      "https://leetcode.com/problems/find-all-anagrams-in-a-string/discuss/92007/Sliding-Window-algorithm-template-to-solve-all-the-Leetcode-substring-search-problem.\n",
      "map@10: 1.0\n",
      " \n",
      "query: 3sum\n",
      "16\n",
      "Concise O(N^2) Java solution\n",
      "https://leetcode.com/problems/3sum/discuss/7380/Concise-O(N2)-Java-solution\n",
      "Share my AC C++ solution, around 50ms, O(N*N), with explanation and comments\n",
      "https://leetcode.com/problems/3sum/discuss/7402/Share-my-AC-C%2B%2B-solution-around-50ms-O(N*N)-with-explanation-and-comments\n",
      "Easiest Java Solution\n",
      "https://leetcode.com/problems/3sum/discuss/7399/Easiest-Java-Solution\n",
      "Python easy to understand solution (O(n*n) time).\n",
      "https://leetcode.com/problems/3sum/discuss/7392/Python-easy-to-understand-solution-(O(n*n)-time).\n",
      "Share my simple java solution\n",
      "https://leetcode.com/problems/3sum/discuss/7373/Share-my-simple-java-solution\n",
      "A n^2 Solution, Can we do better ?\n",
      "https://leetcode.com/problems/3sum-closest/discuss/7873/A-n2-Solution-Can-we-do-better\n",
      "Java solution with O(n2) for reference\n",
      "https://leetcode.com/problems/3sum-closest/discuss/7872/Java-solution-with-O(n2)-for-reference\n",
      "My 16ms c++ code\n",
      "https://leetcode.com/problems/4sum/discuss/8549/My-16ms-c%2B%2B-code\n",
      "C++ solution O(n^2) using sort\n",
      "https://leetcode.com/problems/3sum-closest/discuss/7883/C%2B%2B-solution-O(n2)-using-sort\n",
      "Python O(N^2) solution\n",
      "https://leetcode.com/problems/3sum-closest/discuss/7871/Python-O(N2)-solution\n",
      "map@10: 0.9\n",
      " \n",
      "query: police\n",
      "15\n",
      "C 1ms, O(1)space,  very simple solution\n",
      "https://leetcode.com/problems/house-robber/discuss/55693/C-1ms-O(1)space-very-simple-solution\n",
      "Java O(n) solution, space O(1)\n",
      "https://leetcode.com/problems/house-robber/discuss/55681/Java-O(n)-solution-space-O(1)\n",
      "Simple AC solution in Java in O(n) with explanation\n",
      "https://leetcode.com/problems/house-robber-ii/discuss/59934/Simple-AC-solution-in-Java-in-O(n)-with-explanation\n",
      "Python solution, 3 lines.\n",
      "https://leetcode.com/problems/house-robber/discuss/55696/Python-solution-3-lines.\n",
      "From good to great. How to approach most of DP problems.\n",
      "https://leetcode.com/problems/house-robber/discuss/156523/From-good-to-great.-How-to-approach-most-of-DP-problems.\n",
      "9-lines 0ms O(1)-Space C++ solution\n",
      "https://leetcode.com/problems/house-robber-ii/discuss/59921/9-lines-0ms-O(1)-Space-C%2B%2B-solution\n",
      "Easy understanding solution with dfs\n",
      "https://leetcode.com/problems/house-robber-iii/discuss/79363/Easy-understanding-solution-with-dfs\n",
      "Easy to understand AC C++ solution O(n*k^2) using map\n",
      "https://leetcode.com/problems/palindrome-pairs/discuss/79215/Easy-to-understand-AC-C%2B%2B-solution-O(n*k2)-using-map\n",
      "Simple C++ solution\n",
      "https://leetcode.com/problems/house-robber-iii/discuss/79333/Simple-C%2B%2B-solution\n",
      "Twice pass solution, C++\n",
      "https://leetcode.com/problems/house-robber-ii/discuss/59944/Twice-pass-solution-C%2B%2B\n",
      "map@10: 0.9\n"
     ]
    }
   ],
   "source": [
    "MAPS=[]\n",
    "for i,q in enumerate(queries):\n",
    "    print(\" \")\n",
    "    d_scores,my_frame=do_search(q,meta,weighted_scores)\n",
    "    MAP=0\n",
    "    true_labeled=list(my_annotation[my_annotation[i]==1].index)\n",
    "    id_=list(my_frame.head(10).index.values)\n",
    "    print(\"labeled:\",len(true_labeled))\n",
    "    for num in id_:\n",
    "        if num-1 in true_labeled:\n",
    "            MAP+=1\n",
    "            \n",
    "        qid,did=document_map[str(num)].split(\"-\")\n",
    "        print(discussion_lists[str(qid)][int(did)]['discussion_title'])\n",
    "        print(discussion_lists[str(qid)][int(did)]['discussion_link'])\n",
    "            \n",
    "    MAP=MAP/10\n",
    "    print(\"map@10:\",MAP)\n",
    "    MAPS.append(MAP)"
   ]
  },
  {
   "cell_type": "code",
   "execution_count": 78,
   "metadata": {},
   "outputs": [
    {
     "name": "stdout",
     "output_type": "stream",
     "text": [
      "C 1ms, O(1)space,  very simple solution\n",
      "https://leetcode.com/problems/house-robber/discuss/55693/C-1ms-O(1)space-very-simple-solution\n",
      "Java O(n) solution, space O(1)\n",
      "https://leetcode.com/problems/house-robber/discuss/55681/Java-O(n)-solution-space-O(1)\n",
      "Simple AC solution in Java in O(n) with explanation\n",
      "https://leetcode.com/problems/house-robber-ii/discuss/59934/Simple-AC-solution-in-Java-in-O(n)-with-explanation\n",
      "Python solution, 3 lines.\n",
      "https://leetcode.com/problems/house-robber/discuss/55696/Python-solution-3-lines.\n",
      "From good to great. How to approach most of DP problems.\n",
      "https://leetcode.com/problems/house-robber/discuss/156523/From-good-to-great.-How-to-approach-most-of-DP-problems.\n",
      "9-lines 0ms O(1)-Space C++ solution\n",
      "https://leetcode.com/problems/house-robber-ii/discuss/59921/9-lines-0ms-O(1)-Space-C%2B%2B-solution\n",
      "Easy understanding solution with dfs\n",
      "https://leetcode.com/problems/house-robber-iii/discuss/79363/Easy-understanding-solution-with-dfs\n",
      "Easy to understand AC C++ solution O(n*k^2) using map\n",
      "https://leetcode.com/problems/palindrome-pairs/discuss/79215/Easy-to-understand-AC-C%2B%2B-solution-O(n*k2)-using-map\n",
      "Simple C++ solution\n",
      "https://leetcode.com/problems/house-robber-iii/discuss/79333/Simple-C%2B%2B-solution\n",
      "Twice pass solution, C++\n",
      "https://leetcode.com/problems/house-robber-ii/discuss/59944/Twice-pass-solution-C%2B%2B\n"
     ]
    }
   ],
   "source": [
    "for each in id_:\n",
    "    qid,did=document_map[str(each)].split(\"-\")\n",
    "    print(discussion_lists[str(qid)][int(did)]['discussion_title'])\n",
    "    print(discussion_lists[str(qid)][int(did)]['discussion_link'])\n",
    "#     print(leetcode_questions[str(qid)]['problem_title'])\n",
    "#     print(leetcode_questions[str(qid)]['problem_url'])\n",
    "    \n",
    "#     print(leetcode_questions[str(qid)])\n",
    "#     print(discussion_lists[str(qid)][int(did)])"
   ]
  },
  {
   "cell_type": "markdown",
   "metadata": {},
   "source": [
    "# add some feedback"
   ]
  },
  {
   "cell_type": "code",
   "execution_count": 1,
   "metadata": {},
   "outputs": [],
   "source": [
    "def get_update_word_list(item_list,threshold=3):\n",
    "    word_list=[]\n",
    "    for i in item_list:\n",
    "        for w in meta['doc_unique_terms'][i]:\n",
    "            important_score=meta['btf'][w][i]*(1/meta['doc_count'][w])\n",
    "            if important_score>threshold:\n",
    "                word_list.append(w)\n",
    "                print(w,important_score)\n",
    "    return word_list"
   ]
  },
  {
   "cell_type": "code",
   "execution_count": 2,
   "metadata": {},
   "outputs": [],
   "source": [
    "# used for feedback\n",
    "def query_meta_update(query_meta,word_lists,update_rate=1):\n",
    "    \n",
    "    for w in word_lists:\n",
    "        query_meta['query_words'].append(w)\n",
    "        if w not in query_meta['query_term_weight']:\n",
    "            query_meta['query_term_weight'][w]=update_rate\n",
    "        else:\n",
    "            query_meta['query_term_weight'][w]+=update_rate\n",
    "        query_meta['query_length']+=update_rate*len(word_lists)\n",
    "        \n",
    "        query_meta['related_query'].append(w)\n",
    "    \n",
    "    return query_meta"
   ]
  },
  {
   "cell_type": "code",
   "execution_count": 259,
   "metadata": {},
   "outputs": [
    {
     "name": "stdout",
     "output_type": "stream",
     "text": [
      "good 4.0\n",
      "2018 4.0\n",
      "haha 4.0\n",
      "luck 4.0\n"
     ]
    }
   ],
   "source": [
    "word_list=get_update_word_list(item_list)"
   ]
  },
  {
   "cell_type": "code",
   "execution_count": 260,
   "metadata": {},
   "outputs": [],
   "source": [
    "query_logs[query]=query_meta_update(get_query_meta(query),word_list)"
   ]
  },
  {
   "cell_type": "code",
   "execution_count": 261,
   "metadata": {},
   "outputs": [
    {
     "name": "stdout",
     "output_type": "stream",
     "text": [
      "query: hello baby * good 2018 haha luck * \n",
      "result:\n",
      "0 0.37061128130176607\n",
      "1 0\n",
      "2 0.1938100058015275\n",
      "3 2.2973177085906604\n",
      "4 9.189270834362642\n",
      "related query:\n",
      "hello baby "
     ]
    }
   ],
   "source": [
    "d_scores=do_search(query,meta)"
   ]
  },
  {
   "cell_type": "code",
   "execution_count": 41,
   "metadata": {},
   "outputs": [
    {
     "data": {
      "text/plain": [
       "138"
      ]
     },
     "execution_count": 41,
     "metadata": {},
     "output_type": "execute_result"
    }
   ],
   "source": [
    "meta['corpus_term_count']['dfs']"
   ]
  },
  {
   "cell_type": "code",
   "execution_count": null,
   "metadata": {},
   "outputs": [],
   "source": []
  }
 ],
 "metadata": {
  "kernelspec": {
   "display_name": "Python 3",
   "language": "python",
   "name": "python3"
  },
  "language_info": {
   "codemirror_mode": {
    "name": "ipython",
    "version": 3
   },
   "file_extension": ".py",
   "mimetype": "text/x-python",
   "name": "python",
   "nbconvert_exporter": "python",
   "pygments_lexer": "ipython3",
   "version": "3.6.6"
  }
 },
 "nbformat": 4,
 "nbformat_minor": 2
}
