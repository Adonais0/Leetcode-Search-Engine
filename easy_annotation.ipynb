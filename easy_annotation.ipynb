{
 "cells": [
  {
   "cell_type": "code",
   "execution_count": 2,
   "metadata": {},
   "outputs": [],
   "source": [
    "f=open('documents_stop.txt')\n",
    "lines=f.readlines()\n",
    "f.close()"
   ]
  },
  {
   "cell_type": "code",
   "execution_count": 3,
   "metadata": {},
   "outputs": [],
   "source": [
    "queries=[\"difficult question with dynamic programming\",\n",
    "\"java\",\n",
    "\"binary search\",\n",
    "\"python slide window\",\n",
    "\"3sum\",\n",
    "\"police\"]"
   ]
  },
  {
   "cell_type": "code",
   "execution_count": 4,
   "metadata": {},
   "outputs": [],
   "source": [
    "annotation_dict={}\n",
    "for i,l in enumerate(lines):\n",
    "    my_list=[0]*len(queries)\n",
    "    for j,q in enumerate(queries):\n",
    "        show_up=0\n",
    "        words=q.split()\n",
    "        for w in words:\n",
    "            if w in l:\n",
    "                show_up=1\n",
    "        my_list[j]=show_up\n",
    "    annotation_dict[i]=my_list"
   ]
  },
  {
   "cell_type": "code",
   "execution_count": 7,
   "metadata": {},
   "outputs": [],
   "source": [
    "import pandas as pd\n",
    "my_annotation=pd.DataFrame(annotation_dict)"
   ]
  },
  {
   "cell_type": "code",
   "execution_count": 8,
   "metadata": {},
   "outputs": [],
   "source": [
    "my_annotation.to_csv('annotation.csv')"
   ]
  },
  {
   "cell_type": "code",
   "execution_count": 9,
   "metadata": {},
   "outputs": [],
   "source": [
    "queries2 = [\n",
    "    'matrix problems python solutions',\n",
    "    '3sum O(n^2) java easy solution',\n",
    "    'c++ dfs solutions',\n",
    "    'java easy solution linked list for LRU Cache',\n",
    "    'recursive java solution for longest univalue path'\n",
    "]"
   ]
  },
  {
   "cell_type": "code",
   "execution_count": null,
   "metadata": {},
   "outputs": [],
   "source": [
    "pd.DataFrame(annotation_dict)"
   ]
  }
 ],
 "metadata": {
  "kernelspec": {
   "display_name": "Python 3",
   "language": "python",
   "name": "python3"
  },
  "language_info": {
   "codemirror_mode": {
    "name": "ipython",
    "version": 3
   },
   "file_extension": ".py",
   "mimetype": "text/x-python",
   "name": "python",
   "nbconvert_exporter": "python",
   "pygments_lexer": "ipython3",
   "version": "3.6.6"
  }
 },
 "nbformat": 4,
 "nbformat_minor": 2
}
